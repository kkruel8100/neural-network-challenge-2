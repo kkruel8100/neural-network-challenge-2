{
  "cells": [
    {
      "cell_type": "markdown",
      "metadata": {
        "id": "alIIEHibGc3M"
      },
      "source": [
        "## Part 1: Preprocessing"
      ]
    },
    {
      "cell_type": "code",
      "execution_count": 1,
      "metadata": {
        "colab": {
          "base_uri": "https://localhost:8080/",
          "height": 325
        },
        "id": "6eDUJ4NtGc3P",
        "outputId": "2480098c-135c-4cbf-9552-018494ee8ff5"
      },
      "outputs": [
        {
          "data": {
            "text/html": [
              "<div>\n",
              "<style scoped>\n",
              "    .dataframe tbody tr th:only-of-type {\n",
              "        vertical-align: middle;\n",
              "    }\n",
              "\n",
              "    .dataframe tbody tr th {\n",
              "        vertical-align: top;\n",
              "    }\n",
              "\n",
              "    .dataframe thead th {\n",
              "        text-align: right;\n",
              "    }\n",
              "</style>\n",
              "<table border=\"1\" class=\"dataframe\">\n",
              "  <thead>\n",
              "    <tr style=\"text-align: right;\">\n",
              "      <th></th>\n",
              "      <th>Age</th>\n",
              "      <th>Attrition</th>\n",
              "      <th>BusinessTravel</th>\n",
              "      <th>Department</th>\n",
              "      <th>DistanceFromHome</th>\n",
              "      <th>Education</th>\n",
              "      <th>EducationField</th>\n",
              "      <th>EnvironmentSatisfaction</th>\n",
              "      <th>HourlyRate</th>\n",
              "      <th>JobInvolvement</th>\n",
              "      <th>...</th>\n",
              "      <th>PerformanceRating</th>\n",
              "      <th>RelationshipSatisfaction</th>\n",
              "      <th>StockOptionLevel</th>\n",
              "      <th>TotalWorkingYears</th>\n",
              "      <th>TrainingTimesLastYear</th>\n",
              "      <th>WorkLifeBalance</th>\n",
              "      <th>YearsAtCompany</th>\n",
              "      <th>YearsInCurrentRole</th>\n",
              "      <th>YearsSinceLastPromotion</th>\n",
              "      <th>YearsWithCurrManager</th>\n",
              "    </tr>\n",
              "  </thead>\n",
              "  <tbody>\n",
              "    <tr>\n",
              "      <th>0</th>\n",
              "      <td>41</td>\n",
              "      <td>Yes</td>\n",
              "      <td>Travel_Rarely</td>\n",
              "      <td>Sales</td>\n",
              "      <td>1</td>\n",
              "      <td>2</td>\n",
              "      <td>Life Sciences</td>\n",
              "      <td>2</td>\n",
              "      <td>94</td>\n",
              "      <td>3</td>\n",
              "      <td>...</td>\n",
              "      <td>3</td>\n",
              "      <td>1</td>\n",
              "      <td>0</td>\n",
              "      <td>8</td>\n",
              "      <td>0</td>\n",
              "      <td>1</td>\n",
              "      <td>6</td>\n",
              "      <td>4</td>\n",
              "      <td>0</td>\n",
              "      <td>5</td>\n",
              "    </tr>\n",
              "    <tr>\n",
              "      <th>1</th>\n",
              "      <td>49</td>\n",
              "      <td>No</td>\n",
              "      <td>Travel_Frequently</td>\n",
              "      <td>Research &amp; Development</td>\n",
              "      <td>8</td>\n",
              "      <td>1</td>\n",
              "      <td>Life Sciences</td>\n",
              "      <td>3</td>\n",
              "      <td>61</td>\n",
              "      <td>2</td>\n",
              "      <td>...</td>\n",
              "      <td>4</td>\n",
              "      <td>4</td>\n",
              "      <td>1</td>\n",
              "      <td>10</td>\n",
              "      <td>3</td>\n",
              "      <td>3</td>\n",
              "      <td>10</td>\n",
              "      <td>7</td>\n",
              "      <td>1</td>\n",
              "      <td>7</td>\n",
              "    </tr>\n",
              "    <tr>\n",
              "      <th>2</th>\n",
              "      <td>37</td>\n",
              "      <td>Yes</td>\n",
              "      <td>Travel_Rarely</td>\n",
              "      <td>Research &amp; Development</td>\n",
              "      <td>2</td>\n",
              "      <td>2</td>\n",
              "      <td>Other</td>\n",
              "      <td>4</td>\n",
              "      <td>92</td>\n",
              "      <td>2</td>\n",
              "      <td>...</td>\n",
              "      <td>3</td>\n",
              "      <td>2</td>\n",
              "      <td>0</td>\n",
              "      <td>7</td>\n",
              "      <td>3</td>\n",
              "      <td>3</td>\n",
              "      <td>0</td>\n",
              "      <td>0</td>\n",
              "      <td>0</td>\n",
              "      <td>0</td>\n",
              "    </tr>\n",
              "    <tr>\n",
              "      <th>3</th>\n",
              "      <td>33</td>\n",
              "      <td>No</td>\n",
              "      <td>Travel_Frequently</td>\n",
              "      <td>Research &amp; Development</td>\n",
              "      <td>3</td>\n",
              "      <td>4</td>\n",
              "      <td>Life Sciences</td>\n",
              "      <td>4</td>\n",
              "      <td>56</td>\n",
              "      <td>3</td>\n",
              "      <td>...</td>\n",
              "      <td>3</td>\n",
              "      <td>3</td>\n",
              "      <td>0</td>\n",
              "      <td>8</td>\n",
              "      <td>3</td>\n",
              "      <td>3</td>\n",
              "      <td>8</td>\n",
              "      <td>7</td>\n",
              "      <td>3</td>\n",
              "      <td>0</td>\n",
              "    </tr>\n",
              "    <tr>\n",
              "      <th>4</th>\n",
              "      <td>27</td>\n",
              "      <td>No</td>\n",
              "      <td>Travel_Rarely</td>\n",
              "      <td>Research &amp; Development</td>\n",
              "      <td>2</td>\n",
              "      <td>1</td>\n",
              "      <td>Medical</td>\n",
              "      <td>1</td>\n",
              "      <td>40</td>\n",
              "      <td>3</td>\n",
              "      <td>...</td>\n",
              "      <td>3</td>\n",
              "      <td>4</td>\n",
              "      <td>1</td>\n",
              "      <td>6</td>\n",
              "      <td>3</td>\n",
              "      <td>3</td>\n",
              "      <td>2</td>\n",
              "      <td>2</td>\n",
              "      <td>2</td>\n",
              "      <td>2</td>\n",
              "    </tr>\n",
              "  </tbody>\n",
              "</table>\n",
              "<p>5 rows × 27 columns</p>\n",
              "</div>"
            ],
            "text/plain": [
              "   Age Attrition     BusinessTravel              Department  DistanceFromHome  \\\n",
              "0   41       Yes      Travel_Rarely                   Sales                 1   \n",
              "1   49        No  Travel_Frequently  Research & Development                 8   \n",
              "2   37       Yes      Travel_Rarely  Research & Development                 2   \n",
              "3   33        No  Travel_Frequently  Research & Development                 3   \n",
              "4   27        No      Travel_Rarely  Research & Development                 2   \n",
              "\n",
              "   Education EducationField  EnvironmentSatisfaction  HourlyRate  \\\n",
              "0          2  Life Sciences                        2          94   \n",
              "1          1  Life Sciences                        3          61   \n",
              "2          2          Other                        4          92   \n",
              "3          4  Life Sciences                        4          56   \n",
              "4          1        Medical                        1          40   \n",
              "\n",
              "   JobInvolvement  ...  PerformanceRating RelationshipSatisfaction  \\\n",
              "0               3  ...                  3                        1   \n",
              "1               2  ...                  4                        4   \n",
              "2               2  ...                  3                        2   \n",
              "3               3  ...                  3                        3   \n",
              "4               3  ...                  3                        4   \n",
              "\n",
              "   StockOptionLevel TotalWorkingYears  TrainingTimesLastYear WorkLifeBalance  \\\n",
              "0                 0                 8                      0               1   \n",
              "1                 1                10                      3               3   \n",
              "2                 0                 7                      3               3   \n",
              "3                 0                 8                      3               3   \n",
              "4                 1                 6                      3               3   \n",
              "\n",
              "   YearsAtCompany  YearsInCurrentRole  YearsSinceLastPromotion  \\\n",
              "0               6                   4                        0   \n",
              "1              10                   7                        1   \n",
              "2               0                   0                        0   \n",
              "3               8                   7                        3   \n",
              "4               2                   2                        2   \n",
              "\n",
              "   YearsWithCurrManager  \n",
              "0                     5  \n",
              "1                     7  \n",
              "2                     0  \n",
              "3                     0  \n",
              "4                     2  \n",
              "\n",
              "[5 rows x 27 columns]"
            ]
          },
          "execution_count": 1,
          "metadata": {},
          "output_type": "execute_result"
        }
      ],
      "source": [
        "# Import our dependencies\n",
        "from sklearn.model_selection import train_test_split\n",
        "from sklearn.preprocessing import StandardScaler\n",
        "import pandas as pd\n",
        "import numpy as np\n",
        "from tensorflow.keras.models import Model\n",
        "from tensorflow.keras import layers\n",
        "\n",
        "#  Import and read the attrition data\n",
        "attrition_df = pd.read_csv('https://static.bc-edx.com/ai/ail-v-1-0/m19/lms/datasets/attrition.csv')\n",
        "attrition_df.head()"
      ]
    },
    {
      "cell_type": "code",
      "execution_count": 2,
      "metadata": {
        "colab": {
          "base_uri": "https://localhost:8080/"
        },
        "id": "g22aQSY4Gc3Q",
        "outputId": "1f5c13c1-b981-4e40-a7ed-dd3fe6f1b81e"
      },
      "outputs": [
        {
          "data": {
            "text/plain": [
              "Age                         43\n",
              "Attrition                    2\n",
              "BusinessTravel               3\n",
              "Department                   3\n",
              "DistanceFromHome            29\n",
              "Education                    5\n",
              "EducationField               6\n",
              "EnvironmentSatisfaction      4\n",
              "HourlyRate                  71\n",
              "JobInvolvement               4\n",
              "JobLevel                     5\n",
              "JobRole                      9\n",
              "JobSatisfaction              4\n",
              "MaritalStatus                3\n",
              "NumCompaniesWorked          10\n",
              "OverTime                     2\n",
              "PercentSalaryHike           15\n",
              "PerformanceRating            2\n",
              "RelationshipSatisfaction     4\n",
              "StockOptionLevel             4\n",
              "TotalWorkingYears           40\n",
              "TrainingTimesLastYear        7\n",
              "WorkLifeBalance              4\n",
              "YearsAtCompany              37\n",
              "YearsInCurrentRole          19\n",
              "YearsSinceLastPromotion     16\n",
              "YearsWithCurrManager        18\n",
              "dtype: int64"
            ]
          },
          "execution_count": 2,
          "metadata": {},
          "output_type": "execute_result"
        }
      ],
      "source": [
        "# Determine the number of unique values in each column.\n",
        "attrition_df.nunique()"
      ]
    },
    {
      "cell_type": "code",
      "execution_count": 3,
      "metadata": {
        "id": "50vMgBEnJbfM"
      },
      "outputs": [],
      "source": [
        "# Create y_df with the Attrition and Department columns\n",
        "y_df = attrition_df[[\"Attrition\", \"Department\"]]\n"
      ]
    },
    {
      "cell_type": "code",
      "execution_count": 4,
      "metadata": {},
      "outputs": [
        {
          "data": {
            "text/plain": [
              "Attrition\n",
              "No     1233\n",
              "Yes     237\n",
              "Name: count, dtype: int64"
            ]
          },
          "execution_count": 4,
          "metadata": {},
          "output_type": "execute_result"
        }
      ],
      "source": [
        "# Get values from the Attrition column\n",
        "y_df[\"Attrition\"].value_counts()"
      ]
    },
    {
      "cell_type": "code",
      "execution_count": 5,
      "metadata": {},
      "outputs": [
        {
          "data": {
            "text/plain": [
              "Department\n",
              "Research & Development    961\n",
              "Sales                     446\n",
              "Human Resources            63\n",
              "Name: count, dtype: int64"
            ]
          },
          "execution_count": 5,
          "metadata": {},
          "output_type": "execute_result"
        }
      ],
      "source": [
        "# Get values from the Department column\n",
        "y_df[\"Department\"].value_counts()"
      ]
    },
    {
      "cell_type": "code",
      "execution_count": 6,
      "metadata": {
        "colab": {
          "base_uri": "https://localhost:8080/"
        },
        "id": "Virka0zLGc3R",
        "outputId": "dd5aee3a-9458-4ba6-e857-1b234de40915"
      },
      "outputs": [
        {
          "data": {
            "text/plain": [
              "Education                   int64\n",
              "Age                         int64\n",
              "DistanceFromHome            int64\n",
              "JobSatisfaction             int64\n",
              "OverTime                   object\n",
              "StockOptionLevel            int64\n",
              "WorkLifeBalance             int64\n",
              "YearsAtCompany              int64\n",
              "YearsSinceLastPromotion     int64\n",
              "NumCompaniesWorked          int64\n",
              "dtype: object"
            ]
          },
          "execution_count": 6,
          "metadata": {},
          "output_type": "execute_result"
        }
      ],
      "source": [
        "# Create a list of at least 10 column names to use as X data\n",
        "column_list = [\"Education\", \"Age\", \"DistanceFromHome\", \"JobSatisfaction\", \"OverTime\", \"StockOptionLevel\", \"WorkLifeBalance\", \"YearsAtCompany\", \"YearsSinceLastPromotion\", \"NumCompaniesWorked\"]\n",
        "\n",
        "# Create X_df using your selected columns\n",
        "X_df = attrition_df[column_list]\n",
        "\n",
        "# Show the data types for X_df\n",
        "X_df.dtypes\n"
      ]
    },
    {
      "cell_type": "code",
      "execution_count": 7,
      "metadata": {
        "id": "KaJfdOGUMHMR"
      },
      "outputs": [],
      "source": [
        "# Split the data into training and testing sets\n",
        "from sklearn.model_selection import train_test_split\n",
        "\n",
        "random_state = 42\n",
        "\n",
        "X_train, X_test, y_train, y_test = train_test_split(X_df, y_df, random_state=random_state)"
      ]
    },
    {
      "cell_type": "code",
      "execution_count": 8,
      "metadata": {},
      "outputs": [
        {
          "data": {
            "text/plain": [
              "OverTime\n",
              "No     780\n",
              "Yes    322\n",
              "Name: count, dtype: int64"
            ]
          },
          "execution_count": 8,
          "metadata": {},
          "output_type": "execute_result"
        }
      ],
      "source": [
        "# Convert your X data to numeric data types however you see fit\n",
        "\n",
        "# Get the unique values of the OverTime column\n",
        "X_train[\"OverTime\"].value_counts()"
      ]
    },
    {
      "cell_type": "code",
      "execution_count": 9,
      "metadata": {},
      "outputs": [],
      "source": [
        "# Convert the OverTime column to a binary column\n",
        "from sklearn.preprocessing import LabelEncoder\n",
        "\n",
        "# Create the encoder and fit it to the data\n",
        "overtime_encoder = LabelEncoder().fit(X_train[\"OverTime\"])\n",
        "\n",
        "# Transform train and test\n",
        "X_train[\"OverTime_Encoded\"] = overtime_encoder.transform(X_train[\"OverTime\"])\n",
        "X_test[\"OverTime_Encoded\"] = overtime_encoder.transform(X_test[\"OverTime\"])\n",
        "\n",
        "# Drop the original OverTime column from the X data\n",
        "X_train.drop(\"OverTime\", axis=1, inplace=True)\n",
        "X_test.drop(\"OverTime\", axis=1, inplace=True)"
      ]
    },
    {
      "cell_type": "code",
      "execution_count": 10,
      "metadata": {},
      "outputs": [
        {
          "data": {
            "text/plain": [
              "Index(['Education', 'Age', 'DistanceFromHome', 'JobSatisfaction',\n",
              "       'StockOptionLevel', 'WorkLifeBalance', 'YearsAtCompany',\n",
              "       'YearsSinceLastPromotion', 'NumCompaniesWorked', 'OverTime_Encoded'],\n",
              "      dtype='object')"
            ]
          },
          "execution_count": 10,
          "metadata": {},
          "output_type": "execute_result"
        }
      ],
      "source": [
        "# Check training columns\n",
        "X_train.columns"
      ]
    },
    {
      "cell_type": "code",
      "execution_count": 11,
      "metadata": {},
      "outputs": [
        {
          "data": {
            "text/plain": [
              "Index(['Education', 'Age', 'DistanceFromHome', 'JobSatisfaction',\n",
              "       'StockOptionLevel', 'WorkLifeBalance', 'YearsAtCompany',\n",
              "       'YearsSinceLastPromotion', 'NumCompaniesWorked', 'OverTime_Encoded'],\n",
              "      dtype='object')"
            ]
          },
          "execution_count": 11,
          "metadata": {},
          "output_type": "execute_result"
        }
      ],
      "source": [
        "# Check testing columns\n",
        "X_test.columns"
      ]
    },
    {
      "cell_type": "code",
      "execution_count": 12,
      "metadata": {
        "id": "EWA-aIA5Gc3T"
      },
      "outputs": [],
      "source": [
        "# Create a StandardScaler\n",
        "scaler = StandardScaler()\n",
        "\n",
        "# Fit the StandardScaler to the training data\n",
        "scaler.fit(X_train)\n",
        "\n",
        "# Scale the training and testing data\n",
        "X_train_scaled = scaler.transform(X_train)\n",
        "X_test_scaled = scaler.transform(X_test)  "
      ]
    },
    {
      "cell_type": "code",
      "execution_count": 13,
      "metadata": {
        "colab": {
          "base_uri": "https://localhost:8080/"
        },
        "id": "-z0Mky8vQSz4",
        "outputId": "debefc85-c20b-48f5-f4d9-91eadd65d36a"
      },
      "outputs": [
        {
          "data": {
            "text/plain": [
              "array([[0., 1., 0.],\n",
              "       [0., 0., 1.],\n",
              "       [0., 0., 1.],\n",
              "       ...,\n",
              "       [0., 1., 0.],\n",
              "       [0., 1., 0.],\n",
              "       [0., 0., 1.]])"
            ]
          },
          "execution_count": 13,
          "metadata": {},
          "output_type": "execute_result"
        }
      ],
      "source": [
        "# Create a OneHotEncoder for the Department column\n",
        "from sklearn.preprocessing import OneHotEncoder\n",
        "\n",
        "department_encoder = OneHotEncoder(sparse_output=False)\n",
        "\n",
        "# Fit the encoder to the training data\n",
        "department_encoder.fit(y_train[[\"Department\"]])\n",
        "\n",
        "# Create two new variables by applying the encoder\n",
        "# to the training and testing data\n",
        "department_train_encoded = department_encoder.transform(y_train[[\"Department\"]])\n",
        "department_test_encoded = department_encoder.transform(y_test[[\"Department\"]])\n",
        "\n",
        "department_train_encoded\n"
      ]
    },
    {
      "cell_type": "code",
      "execution_count": 14,
      "metadata": {
        "colab": {
          "base_uri": "https://localhost:8080/"
        },
        "id": "-G4DSpvFRrk4",
        "outputId": "9842e948-8a55-4b80-8fac-f96714e85589"
      },
      "outputs": [
        {
          "data": {
            "text/plain": [
              "array([[1., 0.],\n",
              "       [1., 0.],\n",
              "       [1., 0.],\n",
              "       ...,\n",
              "       [0., 1.],\n",
              "       [1., 0.],\n",
              "       [1., 0.]])"
            ]
          },
          "execution_count": 14,
          "metadata": {},
          "output_type": "execute_result"
        }
      ],
      "source": [
        "# Create a OneHotEncoder for the Attrition column\n",
        "attrition_encoder = OneHotEncoder(sparse_output=False)\n",
        "\n",
        "# Fit the encoder to the training data\n",
        "attrition_encoder.fit(y_train[[\"Attrition\"]])   \n",
        "\n",
        "# Create two new variables by applying the encoder\n",
        "# to the training and testing data\n",
        "attrition_train_encoded = attrition_encoder.transform(y_train[[\"Attrition\"]])\n",
        "attrition_test_encoded = attrition_encoder.transform(y_test[[\"Attrition\"]])\n",
        "\n",
        "attrition_train_encoded\n"
      ]
    },
    {
      "cell_type": "code",
      "execution_count": 15,
      "metadata": {},
      "outputs": [
        {
          "data": {
            "text/plain": [
              "(1102, 10)"
            ]
          },
          "execution_count": 15,
          "metadata": {},
          "output_type": "execute_result"
        }
      ],
      "source": [
        "X_train_scaled.shape"
      ]
    },
    {
      "cell_type": "code",
      "execution_count": 16,
      "metadata": {},
      "outputs": [
        {
          "data": {
            "text/plain": [
              "(368, 10)"
            ]
          },
          "execution_count": 16,
          "metadata": {},
          "output_type": "execute_result"
        }
      ],
      "source": [
        "X_test_scaled.shape"
      ]
    },
    {
      "cell_type": "markdown",
      "metadata": {
        "id": "ykNmu_WWGc3T"
      },
      "source": [
        "## Create, Compile, and Train the Model"
      ]
    },
    {
      "cell_type": "code",
      "execution_count": 17,
      "metadata": {
        "id": "WUptZqmSGc3T"
      },
      "outputs": [],
      "source": [
        "# Find the number of columns in the X training data\n",
        "num_columns = X_train_scaled.shape[1]\n",
        "\n",
        "# Create the input layer\n",
        "input_layer = layers.Input(shape=(num_columns), name=\"input_layer\")\n",
        "\n",
        "# Create at least two shared layers\n",
        "shared1 = layers.Dense(units=64, activation=\"relu\", name=\"shared1\")(input_layer)\n",
        "shared2 = layers.Dense(units=128, activation=\"relu\", name=\"shared2\")(shared1)"
      ]
    },
    {
      "cell_type": "code",
      "execution_count": 18,
      "metadata": {
        "id": "JukjTm2yTEqd"
      },
      "outputs": [],
      "source": [
        "# Create a branch for Department\n",
        "# with a hidden layer and an output layer\n",
        "\n",
        "# Create the hidden layer\n",
        "department_hidden = layers.Dense(units=32, activation=\"relu\", name=\"department_hidden\")(shared2)\n",
        "\n",
        "# Create the output layer\n",
        "department_output = layers.Dense(units=3, activation=\"softmax\", name=\"department_output\")(department_hidden)\n"
      ]
    },
    {
      "cell_type": "code",
      "execution_count": 19,
      "metadata": {
        "id": "9OqhUiOJUBkR"
      },
      "outputs": [],
      "source": [
        "# Create a branch for Attrition\n",
        "# with a hidden layer and an output layer\n",
        "\n",
        "# Create the hidden layer\n",
        "attrition_hidden = layers.Dense(units=32, activation=\"relu\", name=\"attrition_hidden\")(shared2)\n",
        "\n",
        "# Create the output layer\n",
        "attrition_output = layers.Dense(units=2, activation=\"softmax\", name=\"attrition_output\")(attrition_hidden)\n"
      ]
    },
    {
      "cell_type": "code",
      "execution_count": 20,
      "metadata": {
        "colab": {
          "base_uri": "https://localhost:8080/"
        },
        "id": "twmuejdxGc3T",
        "outputId": "25096308-b68b-42e4-e4ea-ae82e97c435a"
      },
      "outputs": [
        {
          "name": "stdout",
          "output_type": "stream",
          "text": [
            "Model: \"model\"\n",
            "__________________________________________________________________________________________________\n",
            " Layer (type)                   Output Shape         Param #     Connected to                     \n",
            "==================================================================================================\n",
            " input_layer (InputLayer)       [(None, 10)]         0           []                               \n",
            "                                                                                                  \n",
            " shared1 (Dense)                (None, 64)           704         ['input_layer[0][0]']            \n",
            "                                                                                                  \n",
            " shared2 (Dense)                (None, 128)          8320        ['shared1[0][0]']                \n",
            "                                                                                                  \n",
            " department_hidden (Dense)      (None, 32)           4128        ['shared2[0][0]']                \n",
            "                                                                                                  \n",
            " attrition_hidden (Dense)       (None, 32)           4128        ['shared2[0][0]']                \n",
            "                                                                                                  \n",
            " department_output (Dense)      (None, 3)            99          ['department_hidden[0][0]']      \n",
            "                                                                                                  \n",
            " attrition_output (Dense)       (None, 2)            66          ['attrition_hidden[0][0]']       \n",
            "                                                                                                  \n",
            "==================================================================================================\n",
            "Total params: 17,445\n",
            "Trainable params: 17,445\n",
            "Non-trainable params: 0\n",
            "__________________________________________________________________________________________________\n"
          ]
        }
      ],
      "source": [
        "# Create the model\n",
        "model = Model(inputs=input_layer, outputs=[department_output, attrition_output])\n",
        "\n",
        "# Compile the model\n",
        "model.compile(optimizer=\"adam\", \n",
        "              loss={\"department_output\": \"categorical_crossentropy\", \"attrition_output\": \"categorical_crossentropy\"}, \n",
        "              metrics={\"department_output\": \"accuracy\",\"attrition_output\": \"accuracy\"})\n",
        "\n",
        "# Summarize the model\n",
        "model.summary()"
      ]
    },
    {
      "cell_type": "code",
      "execution_count": 24,
      "metadata": {
        "colab": {
          "base_uri": "https://localhost:8080/"
        },
        "id": "c8oGy0dpGc3U",
        "outputId": "cc667d43-28cf-42d4-d719-c2bc02888d30"
      },
      "outputs": [
        {
          "name": "stdout",
          "output_type": "stream",
          "text": [
            "Epoch 1/100\n",
            "35/35 - 0s - loss: 0.0612 - department_output_loss: 0.0489 - attrition_output_loss: 0.0122 - department_output_accuracy: 0.9909 - attrition_output_accuracy: 0.9982 - 28ms/epoch - 786us/step\n",
            "Epoch 2/100\n",
            "35/35 - 0s - loss: 0.0567 - department_output_loss: 0.0387 - attrition_output_loss: 0.0180 - department_output_accuracy: 0.9964 - attrition_output_accuracy: 0.9964 - 24ms/epoch - 699us/step\n",
            "Epoch 3/100\n",
            "35/35 - 0s - loss: 0.0547 - department_output_loss: 0.0414 - attrition_output_loss: 0.0133 - department_output_accuracy: 0.9936 - attrition_output_accuracy: 0.9982 - 25ms/epoch - 707us/step\n",
            "Epoch 4/100\n",
            "35/35 - 0s - loss: 0.0618 - department_output_loss: 0.0513 - attrition_output_loss: 0.0106 - department_output_accuracy: 0.9873 - attrition_output_accuracy: 0.9973 - 24ms/epoch - 698us/step\n",
            "Epoch 5/100\n",
            "35/35 - 0s - loss: 0.0979 - department_output_loss: 0.0823 - attrition_output_loss: 0.0156 - department_output_accuracy: 0.9719 - attrition_output_accuracy: 0.9973 - 25ms/epoch - 703us/step\n",
            "Epoch 6/100\n",
            "35/35 - 0s - loss: 0.1683 - department_output_loss: 0.1520 - attrition_output_loss: 0.0163 - department_output_accuracy: 0.9374 - attrition_output_accuracy: 0.9973 - 25ms/epoch - 701us/step\n",
            "Epoch 7/100\n",
            "35/35 - 0s - loss: 0.1089 - department_output_loss: 0.0906 - attrition_output_loss: 0.0183 - department_output_accuracy: 0.9682 - attrition_output_accuracy: 0.9946 - 24ms/epoch - 693us/step\n",
            "Epoch 8/100\n",
            "35/35 - 0s - loss: 0.0697 - department_output_loss: 0.0443 - attrition_output_loss: 0.0254 - department_output_accuracy: 0.9918 - attrition_output_accuracy: 0.9909 - 23ms/epoch - 659us/step\n",
            "Epoch 9/100\n",
            "35/35 - 0s - loss: 0.0436 - department_output_loss: 0.0258 - attrition_output_loss: 0.0177 - department_output_accuracy: 0.9982 - attrition_output_accuracy: 0.9964 - 25ms/epoch - 703us/step\n",
            "Epoch 10/100\n",
            "35/35 - 0s - loss: 0.0384 - department_output_loss: 0.0274 - attrition_output_loss: 0.0110 - department_output_accuracy: 0.9946 - attrition_output_accuracy: 0.9991 - 24ms/epoch - 686us/step\n",
            "Epoch 11/100\n",
            "35/35 - 0s - loss: 0.0341 - department_output_loss: 0.0232 - attrition_output_loss: 0.0109 - department_output_accuracy: 0.9973 - attrition_output_accuracy: 0.9973 - 24ms/epoch - 691us/step\n",
            "Epoch 12/100\n",
            "35/35 - 0s - loss: 0.0288 - department_output_loss: 0.0218 - attrition_output_loss: 0.0070 - department_output_accuracy: 0.9982 - attrition_output_accuracy: 1.0000 - 24ms/epoch - 686us/step\n",
            "Epoch 13/100\n",
            "35/35 - 0s - loss: 0.0249 - department_output_loss: 0.0192 - attrition_output_loss: 0.0057 - department_output_accuracy: 0.9982 - attrition_output_accuracy: 1.0000 - 25ms/epoch - 701us/step\n",
            "Epoch 14/100\n",
            "35/35 - 0s - loss: 0.0252 - department_output_loss: 0.0178 - attrition_output_loss: 0.0074 - department_output_accuracy: 0.9991 - attrition_output_accuracy: 0.9982 - 24ms/epoch - 678us/step\n",
            "Epoch 15/100\n",
            "35/35 - 0s - loss: 0.0270 - department_output_loss: 0.0199 - attrition_output_loss: 0.0070 - department_output_accuracy: 0.9982 - attrition_output_accuracy: 0.9991 - 24ms/epoch - 684us/step\n",
            "Epoch 16/100\n",
            "35/35 - 0s - loss: 0.0276 - department_output_loss: 0.0205 - attrition_output_loss: 0.0071 - department_output_accuracy: 0.9973 - attrition_output_accuracy: 1.0000 - 24ms/epoch - 680us/step\n",
            "Epoch 17/100\n",
            "35/35 - 0s - loss: 0.0319 - department_output_loss: 0.0223 - attrition_output_loss: 0.0096 - department_output_accuracy: 0.9955 - attrition_output_accuracy: 0.9964 - 24ms/epoch - 684us/step\n",
            "Epoch 18/100\n",
            "35/35 - 0s - loss: 0.0308 - department_output_loss: 0.0230 - attrition_output_loss: 0.0078 - department_output_accuracy: 0.9946 - attrition_output_accuracy: 1.0000 - 24ms/epoch - 691us/step\n",
            "Epoch 19/100\n",
            "35/35 - 0s - loss: 0.0249 - department_output_loss: 0.0169 - attrition_output_loss: 0.0080 - department_output_accuracy: 0.9982 - attrition_output_accuracy: 0.9991 - 24ms/epoch - 688us/step\n",
            "Epoch 20/100\n",
            "35/35 - 0s - loss: 0.0203 - department_output_loss: 0.0151 - attrition_output_loss: 0.0052 - department_output_accuracy: 0.9991 - attrition_output_accuracy: 1.0000 - 24ms/epoch - 695us/step\n",
            "Epoch 21/100\n",
            "35/35 - 0s - loss: 0.0211 - department_output_loss: 0.0141 - attrition_output_loss: 0.0070 - department_output_accuracy: 0.9991 - attrition_output_accuracy: 0.9991 - 24ms/epoch - 687us/step\n",
            "Epoch 22/100\n",
            "35/35 - 0s - loss: 0.0178 - department_output_loss: 0.0129 - attrition_output_loss: 0.0049 - department_output_accuracy: 0.9991 - attrition_output_accuracy: 0.9991 - 24ms/epoch - 696us/step\n",
            "Epoch 23/100\n",
            "35/35 - 0s - loss: 0.0164 - department_output_loss: 0.0128 - attrition_output_loss: 0.0036 - department_output_accuracy: 0.9991 - attrition_output_accuracy: 1.0000 - 24ms/epoch - 676us/step\n",
            "Epoch 24/100\n",
            "35/35 - 0s - loss: 0.0181 - department_output_loss: 0.0135 - attrition_output_loss: 0.0046 - department_output_accuracy: 0.9991 - attrition_output_accuracy: 0.9991 - 24ms/epoch - 699us/step\n",
            "Epoch 25/100\n",
            "35/35 - 0s - loss: 0.0235 - department_output_loss: 0.0145 - attrition_output_loss: 0.0090 - department_output_accuracy: 0.9982 - attrition_output_accuracy: 0.9973 - 24ms/epoch - 675us/step\n",
            "Epoch 26/100\n",
            "35/35 - 0s - loss: 0.0242 - department_output_loss: 0.0175 - attrition_output_loss: 0.0067 - department_output_accuracy: 0.9982 - attrition_output_accuracy: 1.0000 - 39ms/epoch - 1ms/step\n",
            "Epoch 27/100\n",
            "35/35 - 0s - loss: 0.0183 - department_output_loss: 0.0139 - attrition_output_loss: 0.0044 - department_output_accuracy: 0.9991 - attrition_output_accuracy: 0.9991 - 26ms/epoch - 740us/step\n",
            "Epoch 28/100\n",
            "35/35 - 0s - loss: 0.0262 - department_output_loss: 0.0169 - attrition_output_loss: 0.0093 - department_output_accuracy: 0.9982 - attrition_output_accuracy: 0.9991 - 24ms/epoch - 684us/step\n",
            "Epoch 29/100\n",
            "35/35 - 0s - loss: 0.0218 - department_output_loss: 0.0154 - attrition_output_loss: 0.0064 - department_output_accuracy: 0.9973 - attrition_output_accuracy: 1.0000 - 24ms/epoch - 687us/step\n",
            "Epoch 30/100\n",
            "35/35 - 0s - loss: 0.0239 - department_output_loss: 0.0190 - attrition_output_loss: 0.0049 - department_output_accuracy: 0.9946 - attrition_output_accuracy: 0.9991 - 24ms/epoch - 696us/step\n",
            "Epoch 31/100\n",
            "35/35 - 0s - loss: 0.0277 - department_output_loss: 0.0223 - attrition_output_loss: 0.0054 - department_output_accuracy: 0.9964 - attrition_output_accuracy: 0.9991 - 24ms/epoch - 682us/step\n",
            "Epoch 32/100\n",
            "35/35 - 0s - loss: 0.0222 - department_output_loss: 0.0161 - attrition_output_loss: 0.0061 - department_output_accuracy: 0.9982 - attrition_output_accuracy: 0.9982 - 24ms/epoch - 693us/step\n",
            "Epoch 33/100\n",
            "35/35 - 0s - loss: 0.0188 - department_output_loss: 0.0157 - attrition_output_loss: 0.0031 - department_output_accuracy: 0.9982 - attrition_output_accuracy: 1.0000 - 24ms/epoch - 684us/step\n",
            "Epoch 34/100\n",
            "35/35 - 0s - loss: 0.0200 - department_output_loss: 0.0167 - attrition_output_loss: 0.0033 - department_output_accuracy: 0.9964 - attrition_output_accuracy: 1.0000 - 23ms/epoch - 667us/step\n",
            "Epoch 35/100\n",
            "35/35 - 0s - loss: 0.0197 - department_output_loss: 0.0168 - attrition_output_loss: 0.0028 - department_output_accuracy: 0.9964 - attrition_output_accuracy: 1.0000 - 24ms/epoch - 695us/step\n",
            "Epoch 36/100\n",
            "35/35 - 0s - loss: 0.0274 - department_output_loss: 0.0246 - attrition_output_loss: 0.0028 - department_output_accuracy: 0.9946 - attrition_output_accuracy: 1.0000 - 24ms/epoch - 696us/step\n",
            "Epoch 37/100\n",
            "35/35 - 0s - loss: 0.0549 - department_output_loss: 0.0520 - attrition_output_loss: 0.0029 - department_output_accuracy: 0.9882 - attrition_output_accuracy: 1.0000 - 24ms/epoch - 687us/step\n",
            "Epoch 38/100\n",
            "35/35 - 0s - loss: 0.0991 - department_output_loss: 0.0950 - attrition_output_loss: 0.0041 - department_output_accuracy: 0.9664 - attrition_output_accuracy: 1.0000 - 24ms/epoch - 697us/step\n",
            "Epoch 39/100\n",
            "35/35 - 0s - loss: 0.1649 - department_output_loss: 0.1567 - attrition_output_loss: 0.0082 - department_output_accuracy: 0.9383 - attrition_output_accuracy: 0.9991 - 24ms/epoch - 695us/step\n",
            "Epoch 40/100\n",
            "35/35 - 0s - loss: 0.1525 - department_output_loss: 0.1143 - attrition_output_loss: 0.0382 - department_output_accuracy: 0.9628 - attrition_output_accuracy: 0.9855 - 24ms/epoch - 678us/step\n",
            "Epoch 41/100\n",
            "35/35 - 0s - loss: 0.1134 - department_output_loss: 0.0604 - attrition_output_loss: 0.0529 - department_output_accuracy: 0.9828 - attrition_output_accuracy: 0.9764 - 24ms/epoch - 694us/step\n",
            "Epoch 42/100\n",
            "35/35 - 0s - loss: 0.0976 - department_output_loss: 0.0236 - attrition_output_loss: 0.0740 - department_output_accuracy: 0.9955 - attrition_output_accuracy: 0.9764 - 23ms/epoch - 671us/step\n",
            "Epoch 43/100\n",
            "35/35 - 0s - loss: 0.0855 - department_output_loss: 0.0173 - attrition_output_loss: 0.0683 - department_output_accuracy: 0.9991 - attrition_output_accuracy: 0.9791 - 24ms/epoch - 692us/step\n",
            "Epoch 44/100\n",
            "35/35 - 0s - loss: 0.0415 - department_output_loss: 0.0153 - attrition_output_loss: 0.0262 - department_output_accuracy: 0.9973 - attrition_output_accuracy: 0.9864 - 24ms/epoch - 678us/step\n",
            "Epoch 45/100\n",
            "35/35 - 0s - loss: 0.0519 - department_output_loss: 0.0170 - attrition_output_loss: 0.0349 - department_output_accuracy: 0.9973 - attrition_output_accuracy: 0.9873 - 24ms/epoch - 696us/step\n",
            "Epoch 46/100\n",
            "35/35 - 0s - loss: 0.0544 - department_output_loss: 0.0109 - attrition_output_loss: 0.0435 - department_output_accuracy: 0.9991 - attrition_output_accuracy: 0.9882 - 24ms/epoch - 683us/step\n",
            "Epoch 47/100\n",
            "35/35 - 0s - loss: 0.0178 - department_output_loss: 0.0110 - attrition_output_loss: 0.0068 - department_output_accuracy: 0.9982 - attrition_output_accuracy: 0.9991 - 25ms/epoch - 704us/step\n",
            "Epoch 48/100\n",
            "35/35 - 0s - loss: 0.0136 - department_output_loss: 0.0090 - attrition_output_loss: 0.0046 - department_output_accuracy: 0.9991 - attrition_output_accuracy: 0.9991 - 24ms/epoch - 682us/step\n",
            "Epoch 49/100\n",
            "35/35 - 0s - loss: 0.0125 - department_output_loss: 0.0089 - attrition_output_loss: 0.0035 - department_output_accuracy: 0.9991 - attrition_output_accuracy: 1.0000 - 25ms/epoch - 706us/step\n",
            "Epoch 50/100\n",
            "35/35 - 0s - loss: 0.0106 - department_output_loss: 0.0080 - attrition_output_loss: 0.0026 - department_output_accuracy: 0.9991 - attrition_output_accuracy: 1.0000 - 25ms/epoch - 708us/step\n",
            "Epoch 51/100\n",
            "35/35 - 0s - loss: 0.0095 - department_output_loss: 0.0071 - attrition_output_loss: 0.0023 - department_output_accuracy: 0.9991 - attrition_output_accuracy: 1.0000 - 25ms/epoch - 701us/step\n",
            "Epoch 52/100\n",
            "35/35 - 0s - loss: 0.0097 - department_output_loss: 0.0075 - attrition_output_loss: 0.0022 - department_output_accuracy: 0.9991 - attrition_output_accuracy: 1.0000 - 24ms/epoch - 686us/step\n",
            "Epoch 53/100\n",
            "35/35 - 0s - loss: 0.0091 - department_output_loss: 0.0070 - attrition_output_loss: 0.0020 - department_output_accuracy: 0.9991 - attrition_output_accuracy: 1.0000 - 25ms/epoch - 702us/step\n",
            "Epoch 54/100\n",
            "35/35 - 0s - loss: 0.0087 - department_output_loss: 0.0067 - attrition_output_loss: 0.0020 - department_output_accuracy: 0.9991 - attrition_output_accuracy: 1.0000 - 25ms/epoch - 707us/step\n",
            "Epoch 55/100\n",
            "35/35 - 0s - loss: 0.0102 - department_output_loss: 0.0083 - attrition_output_loss: 0.0019 - department_output_accuracy: 0.9991 - attrition_output_accuracy: 1.0000 - 24ms/epoch - 687us/step\n",
            "Epoch 56/100\n",
            "35/35 - 0s - loss: 0.0085 - department_output_loss: 0.0066 - attrition_output_loss: 0.0020 - department_output_accuracy: 0.9991 - attrition_output_accuracy: 1.0000 - 25ms/epoch - 704us/step\n",
            "Epoch 57/100\n",
            "35/35 - 0s - loss: 0.0080 - department_output_loss: 0.0062 - attrition_output_loss: 0.0018 - department_output_accuracy: 1.0000 - attrition_output_accuracy: 1.0000 - 24ms/epoch - 694us/step\n",
            "Epoch 58/100\n",
            "35/35 - 0s - loss: 0.0099 - department_output_loss: 0.0082 - attrition_output_loss: 0.0018 - department_output_accuracy: 0.9982 - attrition_output_accuracy: 1.0000 - 24ms/epoch - 689us/step\n",
            "Epoch 59/100\n",
            "35/35 - 0s - loss: 0.0078 - department_output_loss: 0.0062 - attrition_output_loss: 0.0016 - department_output_accuracy: 0.9991 - attrition_output_accuracy: 1.0000 - 24ms/epoch - 681us/step\n",
            "Epoch 60/100\n",
            "35/35 - 0s - loss: 0.0068 - department_output_loss: 0.0052 - attrition_output_loss: 0.0016 - department_output_accuracy: 1.0000 - attrition_output_accuracy: 1.0000 - 25ms/epoch - 708us/step\n",
            "Epoch 61/100\n",
            "35/35 - 0s - loss: 0.0065 - department_output_loss: 0.0049 - attrition_output_loss: 0.0016 - department_output_accuracy: 1.0000 - attrition_output_accuracy: 1.0000 - 24ms/epoch - 684us/step\n",
            "Epoch 62/100\n",
            "35/35 - 0s - loss: 0.0062 - department_output_loss: 0.0047 - attrition_output_loss: 0.0015 - department_output_accuracy: 1.0000 - attrition_output_accuracy: 1.0000 - 24ms/epoch - 700us/step\n",
            "Epoch 63/100\n",
            "35/35 - 0s - loss: 0.0081 - department_output_loss: 0.0065 - attrition_output_loss: 0.0016 - department_output_accuracy: 0.9991 - attrition_output_accuracy: 1.0000 - 24ms/epoch - 690us/step\n",
            "Epoch 64/100\n",
            "35/35 - 0s - loss: 0.0083 - department_output_loss: 0.0068 - attrition_output_loss: 0.0015 - department_output_accuracy: 0.9991 - attrition_output_accuracy: 1.0000 - 41ms/epoch - 1ms/step\n",
            "Epoch 65/100\n",
            "35/35 - 0s - loss: 0.0090 - department_output_loss: 0.0072 - attrition_output_loss: 0.0017 - department_output_accuracy: 0.9991 - attrition_output_accuracy: 1.0000 - 25ms/epoch - 711us/step\n",
            "Epoch 66/100\n",
            "35/35 - 0s - loss: 0.0095 - department_output_loss: 0.0079 - attrition_output_loss: 0.0016 - department_output_accuracy: 0.9991 - attrition_output_accuracy: 1.0000 - 25ms/epoch - 707us/step\n",
            "Epoch 67/100\n",
            "35/35 - 0s - loss: 0.0062 - department_output_loss: 0.0048 - attrition_output_loss: 0.0015 - department_output_accuracy: 1.0000 - attrition_output_accuracy: 1.0000 - 24ms/epoch - 694us/step\n",
            "Epoch 68/100\n",
            "35/35 - 0s - loss: 0.0065 - department_output_loss: 0.0044 - attrition_output_loss: 0.0021 - department_output_accuracy: 1.0000 - attrition_output_accuracy: 0.9991 - 24ms/epoch - 697us/step\n",
            "Epoch 69/100\n",
            "35/35 - 0s - loss: 0.0081 - department_output_loss: 0.0060 - attrition_output_loss: 0.0021 - department_output_accuracy: 0.9991 - attrition_output_accuracy: 1.0000 - 24ms/epoch - 688us/step\n",
            "Epoch 70/100\n",
            "35/35 - 0s - loss: 0.0122 - department_output_loss: 0.0101 - attrition_output_loss: 0.0022 - department_output_accuracy: 0.9973 - attrition_output_accuracy: 1.0000 - 24ms/epoch - 688us/step\n",
            "Epoch 71/100\n",
            "35/35 - 0s - loss: 0.0112 - department_output_loss: 0.0075 - attrition_output_loss: 0.0038 - department_output_accuracy: 0.9982 - attrition_output_accuracy: 0.9982 - 25ms/epoch - 703us/step\n",
            "Epoch 72/100\n",
            "35/35 - 0s - loss: 0.0074 - department_output_loss: 0.0061 - attrition_output_loss: 0.0013 - department_output_accuracy: 1.0000 - attrition_output_accuracy: 1.0000 - 24ms/epoch - 687us/step\n",
            "Epoch 73/100\n",
            "35/35 - 0s - loss: 0.0062 - department_output_loss: 0.0049 - attrition_output_loss: 0.0014 - department_output_accuracy: 0.9991 - attrition_output_accuracy: 1.0000 - 24ms/epoch - 694us/step\n",
            "Epoch 74/100\n",
            "35/35 - 0s - loss: 0.0074 - department_output_loss: 0.0060 - attrition_output_loss: 0.0013 - department_output_accuracy: 0.9991 - attrition_output_accuracy: 1.0000 - 24ms/epoch - 674us/step\n",
            "Epoch 75/100\n",
            "35/35 - 0s - loss: 0.0078 - department_output_loss: 0.0065 - attrition_output_loss: 0.0013 - department_output_accuracy: 0.9991 - attrition_output_accuracy: 1.0000 - 24ms/epoch - 692us/step\n",
            "Epoch 76/100\n",
            "35/35 - 0s - loss: 0.0055 - department_output_loss: 0.0044 - attrition_output_loss: 0.0011 - department_output_accuracy: 1.0000 - attrition_output_accuracy: 1.0000 - 29ms/epoch - 819us/step\n",
            "Epoch 77/100\n",
            "35/35 - 0s - loss: 0.0058 - department_output_loss: 0.0047 - attrition_output_loss: 0.0011 - department_output_accuracy: 1.0000 - attrition_output_accuracy: 1.0000 - 25ms/epoch - 715us/step\n",
            "Epoch 78/100\n",
            "35/35 - 0s - loss: 0.0063 - department_output_loss: 0.0052 - attrition_output_loss: 0.0010 - department_output_accuracy: 0.9982 - attrition_output_accuracy: 1.0000 - 25ms/epoch - 701us/step\n",
            "Epoch 79/100\n",
            "35/35 - 0s - loss: 0.0058 - department_output_loss: 0.0048 - attrition_output_loss: 0.0010 - department_output_accuracy: 1.0000 - attrition_output_accuracy: 1.0000 - 24ms/epoch - 692us/step\n",
            "Epoch 80/100\n",
            "35/35 - 0s - loss: 0.0054 - department_output_loss: 0.0044 - attrition_output_loss: 0.0010 - department_output_accuracy: 1.0000 - attrition_output_accuracy: 1.0000 - 24ms/epoch - 690us/step\n",
            "Epoch 81/100\n",
            "35/35 - 0s - loss: 0.0049 - department_output_loss: 0.0040 - attrition_output_loss: 9.4629e-04 - department_output_accuracy: 0.9991 - attrition_output_accuracy: 1.0000 - 24ms/epoch - 679us/step\n",
            "Epoch 82/100\n",
            "35/35 - 0s - loss: 0.0045 - department_output_loss: 0.0036 - attrition_output_loss: 9.6319e-04 - department_output_accuracy: 1.0000 - attrition_output_accuracy: 1.0000 - 24ms/epoch - 687us/step\n",
            "Epoch 83/100\n",
            "35/35 - 0s - loss: 0.0042 - department_output_loss: 0.0032 - attrition_output_loss: 9.3290e-04 - department_output_accuracy: 1.0000 - attrition_output_accuracy: 1.0000 - 24ms/epoch - 698us/step\n",
            "Epoch 84/100\n",
            "35/35 - 0s - loss: 0.0042 - department_output_loss: 0.0033 - attrition_output_loss: 8.8709e-04 - department_output_accuracy: 1.0000 - attrition_output_accuracy: 1.0000 - 25ms/epoch - 708us/step\n",
            "Epoch 85/100\n",
            "35/35 - 0s - loss: 0.0050 - department_output_loss: 0.0040 - attrition_output_loss: 9.6364e-04 - department_output_accuracy: 0.9991 - attrition_output_accuracy: 1.0000 - 24ms/epoch - 697us/step\n",
            "Epoch 86/100\n",
            "35/35 - 0s - loss: 0.0064 - department_output_loss: 0.0055 - attrition_output_loss: 9.0388e-04 - department_output_accuracy: 0.9991 - attrition_output_accuracy: 1.0000 - 24ms/epoch - 698us/step\n",
            "Epoch 87/100\n",
            "35/35 - 0s - loss: 0.0122 - department_output_loss: 0.0113 - attrition_output_loss: 9.2271e-04 - department_output_accuracy: 0.9973 - attrition_output_accuracy: 1.0000 - 23ms/epoch - 671us/step\n",
            "Epoch 88/100\n",
            "35/35 - 0s - loss: 0.1090 - department_output_loss: 0.1077 - attrition_output_loss: 0.0013 - department_output_accuracy: 0.9691 - attrition_output_accuracy: 1.0000 - 24ms/epoch - 695us/step\n",
            "Epoch 89/100\n",
            "35/35 - 0s - loss: 0.3736 - department_output_loss: 0.3368 - attrition_output_loss: 0.0368 - department_output_accuracy: 0.9002 - attrition_output_accuracy: 0.9882 - 24ms/epoch - 689us/step\n",
            "Epoch 90/100\n",
            "35/35 - 0s - loss: 0.4363 - department_output_loss: 0.2767 - attrition_output_loss: 0.1597 - department_output_accuracy: 0.9147 - attrition_output_accuracy: 0.9537 - 24ms/epoch - 681us/step\n",
            "Epoch 91/100\n",
            "35/35 - 0s - loss: 0.2120 - department_output_loss: 0.0959 - attrition_output_loss: 0.1161 - department_output_accuracy: 0.9646 - attrition_output_accuracy: 0.9564 - 24ms/epoch - 689us/step\n",
            "Epoch 92/100\n",
            "35/35 - 0s - loss: 0.0849 - department_output_loss: 0.0412 - attrition_output_loss: 0.0437 - department_output_accuracy: 0.9855 - attrition_output_accuracy: 0.9791 - 24ms/epoch - 697us/step\n",
            "Epoch 93/100\n",
            "35/35 - 0s - loss: 0.0302 - department_output_loss: 0.0157 - attrition_output_loss: 0.0145 - department_output_accuracy: 0.9982 - attrition_output_accuracy: 0.9964 - 24ms/epoch - 687us/step\n",
            "Epoch 94/100\n",
            "35/35 - 0s - loss: 0.0145 - department_output_loss: 0.0106 - attrition_output_loss: 0.0039 - department_output_accuracy: 0.9991 - attrition_output_accuracy: 1.0000 - 24ms/epoch - 687us/step\n",
            "Epoch 95/100\n",
            "35/35 - 0s - loss: 0.0115 - department_output_loss: 0.0089 - attrition_output_loss: 0.0026 - department_output_accuracy: 1.0000 - attrition_output_accuracy: 1.0000 - 24ms/epoch - 677us/step\n",
            "Epoch 96/100\n",
            "35/35 - 0s - loss: 0.0099 - department_output_loss: 0.0076 - attrition_output_loss: 0.0023 - department_output_accuracy: 1.0000 - attrition_output_accuracy: 1.0000 - 24ms/epoch - 690us/step\n",
            "Epoch 97/100\n",
            "35/35 - 0s - loss: 0.0091 - department_output_loss: 0.0070 - attrition_output_loss: 0.0021 - department_output_accuracy: 0.9991 - attrition_output_accuracy: 1.0000 - 24ms/epoch - 690us/step\n",
            "Epoch 98/100\n",
            "35/35 - 0s - loss: 0.0088 - department_output_loss: 0.0068 - attrition_output_loss: 0.0020 - department_output_accuracy: 1.0000 - attrition_output_accuracy: 1.0000 - 24ms/epoch - 673us/step\n",
            "Epoch 99/100\n",
            "35/35 - 0s - loss: 0.0077 - department_output_loss: 0.0059 - attrition_output_loss: 0.0018 - department_output_accuracy: 1.0000 - attrition_output_accuracy: 1.0000 - 24ms/epoch - 690us/step\n",
            "Epoch 100/100\n",
            "35/35 - 0s - loss: 0.0075 - department_output_loss: 0.0057 - attrition_output_loss: 0.0018 - department_output_accuracy: 0.9991 - attrition_output_accuracy: 1.0000 - 39ms/epoch - 1ms/step\n"
          ]
        },
        {
          "data": {
            "text/plain": [
              "<keras.callbacks.History at 0x309ccf550>"
            ]
          },
          "execution_count": 24,
          "metadata": {},
          "output_type": "execute_result"
        }
      ],
      "source": [
        "# Train the model\n",
        "model.fit(X_train_scaled, \n",
        "          {\"department_output\": department_train_encoded, \"attrition_output\": attrition_train_encoded}, \n",
        "          epochs=100,\n",
        "          verbose=2)\n"
      ]
    },
    {
      "cell_type": "code",
      "execution_count": 25,
      "metadata": {
        "colab": {
          "base_uri": "https://localhost:8080/"
        },
        "id": "VsMoaQlgGc3U",
        "outputId": "1bd4e601-e964-4abc-ad83-aeecf6b696be"
      },
      "outputs": [
        {
          "name": "stdout",
          "output_type": "stream",
          "text": [
            "12/12 [==============================] - 0s 773us/step - loss: 5.6161 - department_output_loss: 4.1487 - attrition_output_loss: 1.4674 - department_output_accuracy: 0.5163 - attrition_output_accuracy: 0.8207\n"
          ]
        },
        {
          "data": {
            "text/plain": [
              "[5.616080284118652,\n",
              " 4.148706912994385,\n",
              " 1.467373251914978,\n",
              " 0.5163043737411499,\n",
              " 0.820652186870575]"
            ]
          },
          "execution_count": 25,
          "metadata": {},
          "output_type": "execute_result"
        }
      ],
      "source": [
        "# Evaluate the model with the testing data\n",
        "test_results = model.evaluate(X_test_scaled,{\"department_output\": department_test_encoded, \"attrition_output\": attrition_test_encoded})\n",
        "\n",
        "test_results"
      ]
    },
    {
      "cell_type": "code",
      "execution_count": 26,
      "metadata": {
        "colab": {
          "base_uri": "https://localhost:8080/"
        },
        "id": "ZlCtlHi0Vt54",
        "outputId": "bc21ef3e-80c2-4b38-9c29-79515bc23dec"
      },
      "outputs": [
        {
          "name": "stdout",
          "output_type": "stream",
          "text": [
            "Department predictions accuracy: 0.5163043737411499\n",
            "Attrition predictions accuracy: 0.820652186870575\n"
          ]
        }
      ],
      "source": [
        "# Print the accuracy for both department and attrition\n",
        "print(f\"Department predictions accuracy: {test_results[3]}\")\n",
        "print(f\"Attrition predictions accuracy: {test_results[4]}\")"
      ]
    },
    {
      "cell_type": "markdown",
      "metadata": {
        "id": "eGSyfsZfWOQM"
      },
      "source": [
        "# Summary\n",
        "\n",
        "In the provided space below, briefly answer the following questions.\n",
        "\n",
        "1. Is accuracy the best metric to use on this data? Why or why not?\n",
        "\n",
        "2. What activation functions did you choose for your output layers, and why?\n",
        "\n",
        "3. Can you name a few ways that this model might be improved?"
      ]
    },
    {
      "cell_type": "markdown",
      "metadata": {
        "id": "pi9SLpFnWvbF"
      },
      "source": [
        "YOUR ANSWERS HERE\n",
        "\n",
        "1. If looking at attrition only predictions, accuracy rate is approximately 82.07%.  This would be a arguably good but not great rate. It would be worth testing additional models and metrics to see if the accuracy rate could be improved. However, department accuracy is approximately 51.63% which is little better than 50-50. This would not be a good metric for department accuracy. Using this model to evaluate both attrition and department predictions, it would need to have high accurary rates for both categories. In a combined evaluation, accuracy is not the best metric on this data.\n",
        "2. The activation function was chosed based on the values for each column.\n",
        "Department has 3 values and was a multi class column. Softmax activation was chosen for multi class.\n",
        "Attrition had 2 values and was a binary class column. Sigmoid activation was chosen for binary.\n",
        "3. \n",
        "* The original columns selected could be altered. Different or more columns could be chosen. Correlations and metrics could be ran to determine the most relevant columns.\n",
        "* Additional shared layers could be created. The steps above only had two shared layers.\n",
        "* Additional hidden layers for both department and attrition could be created. The steps above only had one hidden layer.\n",
        "* The hidden layers for department and attrition could be branched at different layers. For example, currently attrition hidden layer is using the shared layer 2. A third shared layer could be added and the department could be pointed to the shared layer 3. An additional processing layer may increase the accuracy.\n",
        "* The parameters for the shared and hidden layers could be adjusted."
      ]
    },
    {
      "cell_type": "markdown",
      "metadata": {},
      "source": []
    }
  ],
  "metadata": {
    "colab": {
      "provenance": []
    },
    "kernelspec": {
      "display_name": "Python 3",
      "language": "python",
      "name": "python3"
    },
    "language_info": {
      "codemirror_mode": {
        "name": "ipython",
        "version": 3
      },
      "file_extension": ".py",
      "mimetype": "text/x-python",
      "name": "python",
      "nbconvert_exporter": "python",
      "pygments_lexer": "ipython3",
      "version": "3.10.13"
    },
    "vscode": {
      "interpreter": {
        "hash": "31f2aee4e71d21fbe5cf8b01ff0e069b9275f58929596ceb00d14d90e3e16cd6"
      }
    }
  },
  "nbformat": 4,
  "nbformat_minor": 0
}
